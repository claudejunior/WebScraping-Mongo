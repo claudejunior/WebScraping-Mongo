This will be use to complete all of the scraping and analysis tasks. 
